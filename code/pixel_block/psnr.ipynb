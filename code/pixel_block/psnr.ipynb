{
 "cells": [
  {
   "cell_type": "code",
   "execution_count": 1,
   "metadata": {},
   "outputs": [],
   "source": [
    "from math import log10, sqrt \n",
    "import cv2 \n",
    "import numpy as np \n",
    "\n",
    "def PSNR(original, compressed): \n",
    "\tmse = np.mean((original - compressed) ** 2) \n",
    "\tif(mse == 0): # MSE is zero means no noise is present in the signal . \n",
    "\t\t\t\t# Therefore PSNR have no importance. \n",
    "\t\treturn 100\n",
    "\tmax_pixel = 255.0\n",
    "\tpsnr = 20 * log10(max_pixel / sqrt(mse)) \n",
    "\treturn psnr \n"
   ]
  },
  {
   "cell_type": "code",
   "execution_count": 3,
   "metadata": {},
   "outputs": [
    {
     "name": "stdout",
     "output_type": "stream",
     "text": [
      "PSNR value is 57.582403789329106 dB\n"
     ]
    }
   ],
   "source": [
    "\n",
    "def main(): \n",
    "\toriginal = cv2.imread(\"./../../cover_images/Aerial.tiff\", cv2.IMREAD_COLOR)\n",
    "\tcompressed = cv2.imread(\"stego_image.tiff\", 1)\n",
    "\tvalue = PSNR(original, compressed) \n",
    "\tprint(f\"PSNR value is {value} dB\") \n",
    "\t\n",
    "if __name__ == \"__main__\": \n",
    "\tmain() \n"
   ]
  }
 ],
 "metadata": {
  "kernelspec": {
   "display_name": "base",
   "language": "python",
   "name": "python3"
  },
  "language_info": {
   "codemirror_mode": {
    "name": "ipython",
    "version": 3
   },
   "file_extension": ".py",
   "mimetype": "text/x-python",
   "name": "python",
   "nbconvert_exporter": "python",
   "pygments_lexer": "ipython3",
   "version": "3.12.3"
  }
 },
 "nbformat": 4,
 "nbformat_minor": 2
}
