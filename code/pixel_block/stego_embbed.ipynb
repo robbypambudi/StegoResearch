{
 "cells": [
  {
   "cell_type": "code",
   "execution_count": 139,
   "metadata": {},
   "outputs": [],
   "source": [
    "# Algorithm 1. Embeding and Extracting Data in an Image\n",
    "import cv2\n"
   ]
  },
  {
   "cell_type": "code",
   "execution_count": 140,
   "metadata": {},
   "outputs": [],
   "source": [
    "cover_images = [\n",
    "  \"./../../cover_images/Aerial.tiff\",\n",
    "  \"./../../cover_images/Boboon.tiff\",\n",
    "  \"./../../cover_images/Boat.tiff\",\n",
    "  \"./../../cover_images/Chemical_plant.tiff\",\n",
    "  \"./../../cover_images/Clock.tiff\",\n",
    "  \"./../../cover_images/Moon_Surface.tiff\",\n",
    "  \"./../../cover_images/Pepper.tiff\",\n",
    "  \"./../../cover_images/Resolution_Chart.tiff\",\n",
    "]\n",
    "\n",
    "payloads = [\n",
    "  \"./../../payloads/random-binary_1Kb.txt\",\n",
    "  \"./../../payloads/random-binary_10Kb.txt\",\n",
    "  \"./../../payloads/random-binary_20Kb.txt\",\n",
    "  \"./../../payloads/random-binary_30Kb.txt\",\n",
    "  \"./../../payloads/random-binary_40Kb.txt\",\n",
    "  \"./../../payloads/random-binary_50Kb.txt\",\n",
    "  \"./../../payloads/random-binary_60Kb.txt\",\n",
    "  \"./../../payloads/random-binary_70Kb.txt\",\n",
    "  \"./../../payloads/random-binary_80Kb.txt\",\n",
    "  \"./../../payloads/random-binary_90Kb.txt\",\n",
    "  \"./../../payloads/random-binary_100Kb.txt\",\n",
    "]"
   ]
  },
  {
   "cell_type": "code",
   "execution_count": 141,
   "metadata": {},
   "outputs": [],
   "source": [
    "# Input image\n",
    "img = cv2.imread(cover_images[0], cv2.IMREAD_COLOR)\n"
   ]
  },
  {
   "cell_type": "code",
   "execution_count": 142,
   "metadata": {},
   "outputs": [
    {
     "data": {
      "text/plain": [
       "array([122, 122, 122, ...,  32,  32,  32], dtype=uint8)"
      ]
     },
     "execution_count": 142,
     "metadata": {},
     "output_type": "execute_result"
    }
   ],
   "source": [
    "# Reshape the image to a 1D array\n",
    "img_1d = img.reshape(-1)\n",
    "img_length = len(img_1d)\n",
    "img_1d"
   ]
  },
  {
   "cell_type": "code",
   "execution_count": 143,
   "metadata": {},
   "outputs": [],
   "source": [
    "# Input payload from file payload.txt\n",
    "payload = []\n",
    "with open(payloads[0], \"rb\") as f:\n",
    "  byte = f.read(1)\n",
    "  while byte:\n",
    "    payload.append(byte)\n",
    "    byte = f.read(1)\n",
    "    \n"
   ]
  },
  {
   "cell_type": "code",
   "execution_count": 144,
   "metadata": {},
   "outputs": [],
   "source": [
    "# Remove \\t\n",
    "payload = [x for x in payload if x != b'\\t']\n"
   ]
  },
  {
   "cell_type": "code",
   "execution_count": 145,
   "metadata": {},
   "outputs": [],
   "source": [
    "# Helper variables\n",
    "inserted_payload = 0\n",
    "block_size = 31\n",
    "payload_index = 0\n",
    "payload_length = len(payload)"
   ]
  },
  {
   "cell_type": "code",
   "execution_count": 146,
   "metadata": {},
   "outputs": [
    {
     "name": "stderr",
     "output_type": "stream",
     "text": [
      "C:\\Users\\robby\\AppData\\Local\\Temp\\ipykernel_9900\\3826521497.py:6: RuntimeWarning: overflow encountered in scalar subtract\n",
      "  diff_pixel = img_1d[i + j -1] - subs_pixel\n"
     ]
    }
   ],
   "source": [
    "# Embedding the payload\n",
    "for i in range(1, img_length, block_size):\n",
    "    if(i + block_size -1 <= img_length and payload_index + 1 <= payload_length):\n",
    "        subs_pixel = img_1d[i + block_size - 1]\n",
    "        for j in range(1, block_size, 1):\n",
    "            diff_pixel = img_1d[i + j -1] - subs_pixel\n",
    "\n",
    "            if((diff_pixel > -10 and diff_pixel < 10) and (payload_index + 1 <= payload_length)):\n",
    "                payload_index += 1\n",
    "                # b'1'-> 1\n",
    "                # b'0'-> 0\n",
    "                diff_pixel += (int.from_bytes(payload[payload_index - 1], \"big\")- 48)\n",
    "                # How if contain space \n",
    "                img_1d[i + j -1] += diff_pixel\n",
    "                # print(\"img_1d[i + j -1]\", img_1d[i + j -1])\n",
    "                inserted_payload += 1\n"
   ]
  },
  {
   "cell_type": "code",
   "execution_count": 147,
   "metadata": {},
   "outputs": [
    {
     "data": {
      "text/plain": [
       "True"
      ]
     },
     "execution_count": 147,
     "metadata": {},
     "output_type": "execute_result"
    }
   ],
   "source": [
    "# Generate the stego image\n",
    "img_stego = img_1d.reshape(img.shape)\n",
    "cv2.imwrite(\"stego_image.tiff\", img_stego)\n"
   ]
  }
 ],
 "metadata": {
  "kernelspec": {
   "display_name": "base",
   "language": "python",
   "name": "python3"
  },
  "language_info": {
   "codemirror_mode": {
    "name": "ipython",
    "version": 3
   },
   "file_extension": ".py",
   "mimetype": "text/x-python",
   "name": "python",
   "nbconvert_exporter": "python",
   "pygments_lexer": "ipython3",
   "version": "3.12.3"
  }
 },
 "nbformat": 4,
 "nbformat_minor": 2
}
